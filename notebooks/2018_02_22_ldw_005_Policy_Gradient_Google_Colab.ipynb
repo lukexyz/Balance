{
 "cells": [
  {
   "cell_type": "markdown",
   "metadata": {
    "colab_type": "text",
    "id": "7hGpG5tOvGXS"
   },
   "source": [
    "### Open AI Gym\n",
    "\n",
    "Reinforcement Learning with CartePole"
   ]
  },
  {
   "cell_type": "code",
   "execution_count": 1,
   "metadata": {
    "colab": {
     "autoexec": {
      "startup": false,
      "wait_interval": 0
     },
     "base_uri": "https://localhost:8080/",
     "height": 442,
     "output_extras": [
      {
       "item_id": 11
      }
     ]
    },
    "colab_type": "code",
    "collapsed": true,
    "executionInfo": {
     "elapsed": 5435,
     "status": "ok",
     "timestamp": 1519330418235,
     "user": {
      "displayName": "Luke Woods",
      "photoUrl": "//lh5.googleusercontent.com/-T2fU76Zpl4Q/AAAAAAAAAAI/AAAAAAAAI-U/kjJiIsiXSxQ/s50-c-k-no/photo.jpg",
      "userId": "118435771259044284350"
     },
     "user_tz": 0
    },
    "id": "XIEADj6Rvm_Z",
    "outputId": "a824047f-0ba7-438c-939f-f737ca359777"
   },
   "outputs": [
    {
     "name": "stdout",
     "output_type": "stream",
     "text": [
      "Collecting gym\n",
      "  Downloading gym-0.9.7.tar.gz (108kB)\n",
      "\u001b[K    100% |████████████████████████████████| 112kB 2.4MB/s \n",
      "\u001b[?25hCollecting tqdm\n",
      "  Downloading tqdm-4.19.5-py2.py3-none-any.whl (51kB)\n",
      "\u001b[K    100% |████████████████████████████████| 61kB 2.5MB/s \n",
      "\u001b[?25hRequirement already satisfied: pillow in /Users/Luke/Library/Enthought/Canopy_64bit/User/lib/python2.7/site-packages\n",
      "Requirement already satisfied: numpy>=1.10.4 in /Users/Luke/Library/Enthought/Canopy_64bit/User/lib/python2.7/site-packages (from gym)\n",
      "Requirement already satisfied: requests>=2.0 in /Users/Luke/Library/Enthought/Canopy_64bit/User/lib/python2.7/site-packages (from gym)\n",
      "Requirement already satisfied: six in /Users/Luke/Library/Enthought/Canopy_64bit/User/lib/python2.7/site-packages (from gym)\n",
      "Collecting pyglet>=1.2.0 (from gym)\n",
      "  Downloading pyglet-1.3.1-py2.py3-none-any.whl (1.0MB)\n",
      "\u001b[K    100% |████████████████████████████████| 1.0MB 686kB/s \n",
      "\u001b[?25hCollecting future (from pyglet>=1.2.0->gym)\n",
      "  Downloading future-0.16.0.tar.gz (824kB)\n",
      "\u001b[K    100% |████████████████████████████████| 829kB 542kB/s \n",
      "\u001b[?25hInstalling collected packages: future, pyglet, gym, tqdm\n",
      "  Running setup.py install for future ... \u001b[?25l-\b \b\\\b \b|\b \b/\b \b-\b \b\\\b \b|\b \b/\b \b-\b \b\\\b \b|\b \b/\b \bdone\n",
      "\u001b[?25h  Running setup.py install for gym ... \u001b[?25l-\b \b\\\b \b|\b \b/\b \b-\b \bdone\n",
      "\u001b[?25hSuccessfully installed future-0.16.0 gym-0.9.7 pyglet-1.3.1 tqdm-4.19.5\n"
     ]
    }
   ],
   "source": [
    "!pip install gym tqdm pillow"
   ]
  },
  {
   "cell_type": "code",
   "execution_count": 4,
   "metadata": {
    "colab": {
     "autoexec": {
      "startup": false,
      "wait_interval": 0
     },
     "base_uri": "https://localhost:8080/",
     "height": 2978,
     "output_extras": [
      {
       "item_id": 17
      },
      {
       "item_id": 28
      }
     ]
    },
    "colab_type": "code",
    "collapsed": true,
    "executionInfo": {
     "elapsed": 10493,
     "status": "ok",
     "timestamp": 1519332118837,
     "user": {
      "displayName": "Luke Woods",
      "photoUrl": "//lh5.googleusercontent.com/-T2fU76Zpl4Q/AAAAAAAAAAI/AAAAAAAAI-U/kjJiIsiXSxQ/s50-c-k-no/photo.jpg",
      "userId": "118435771259044284350"
     },
     "user_tz": 0
    },
    "id": "Vq2nWlwiPqNm",
    "outputId": "7e154ff4-ecd7-4e28-cde5-ebecda454127"
   },
   "outputs": [
    {
     "name": "stdout",
     "output_type": "stream",
     "text": [
      "Updating Homebrew...\n",
      "\u001b[34m==>\u001b[0m \u001b[1mAuto-updated Homebrew!\u001b[0m\n",
      "Updated 2 taps (homebrew/science, homebrew/core).\n",
      "\u001b[34m==>\u001b[0m \u001b[1mNew Formulae\u001b[0m\n",
      "amber                      hlint                      plank\n",
      "augustus                   hmmer                      posh\n",
      "ballerina                  howdoi                     primer3\n",
      "bareos-client              jdupes                     qtkeychain\n",
      "boost-python3              krakend                    restview\n",
      "calicoctl                  kube-ps1                   shelltestrunner\n",
      "chrome-export              libbitcoin-consensus       shogun\n",
      "clblast                    libccd                     siril\n",
      "console_bridge             libdill                    skafos\n",
      "container-diff             libjwt                     srt\n",
      "coreos-ct                  libsbol                    terraforming\n",
      "dartsim                    mafft                      tmux-xpanes\n",
      "dashing                    mariadb-connector-odbc     tomcat@8\n",
      "dynare                     mdcat                      unravel\n",
      "fcl                        mmseqs2                    urdfdom\n",
      "fruit                      mpir                       urdfdom_headers\n",
      "futhark                    nyx                        vis\n",
      "gocryptfs                  ocrmypdf                   webtorrent-cli\n",
      "gpredict                   odpi                       zig\n",
      "grv                        openimageio\n",
      "\u001b[34m==>\u001b[0m \u001b[1mUpdated Formulae\u001b[0m\n",
      "\u001b[1mffmpeg \u001b[32m✔\u001b[0m\u001b[0m                                 libhttpseverywhere\n",
      "\u001b[1mgit \u001b[32m✔\u001b[0m\u001b[0m                                    libical\n",
      "\u001b[1mlame \u001b[32m✔\u001b[0m\u001b[0m                                   liblwgeom\n",
      "\u001b[1mlibtiff \u001b[32m✔\u001b[0m\u001b[0m                                libmaxminddb\n",
      "\u001b[1mnumpy \u001b[32m✔\u001b[0m\u001b[0m                                  libmicrohttpd\n",
      "\u001b[1mopencv \u001b[32m✔\u001b[0m\u001b[0m                                 libmonome\n",
      "\u001b[1mpython \u001b[32m✔\u001b[0m\u001b[0m                                 libmpdclient\n",
      "\u001b[1msbt \u001b[32m✔\u001b[0m\u001b[0m                                    libphonenumber\n",
      "\u001b[1msqlite \u001b[32m✔\u001b[0m\u001b[0m                                 libpq\n",
      "\u001b[1mwget \u001b[32m✔\u001b[0m\u001b[0m                                   libpqxx\n",
      "\u001b[1mx264 \u001b[32m✔\u001b[0m\u001b[0m                                   libqalculate\n",
      "\u001b[1mxvid \u001b[32m✔\u001b[0m\u001b[0m                                   libraw\n",
      "abcm2ps                                  libre\n",
      "abcmidi                                  librealsense\n",
      "abnfgen                                  librsvg\n",
      "abyss                                    libsass\n",
      "acmetool                                 libsigsegv\n",
      "acpica                                   libspatialite\n",
      "advancecomp                              libtasn1\n",
      "advancemame                              libtensorflow\n",
      "akamai                                   libtomcrypt\n",
      "allure                                   libtrng\n",
      "amazon-ecs-cli                           libupnp\n",
      "angular-cli                              libuv\n",
      "ansible                                  libvirt\n",
      "ant                                      libvpx\n",
      "apache-geode                             libxc\n",
      "apibuilder-cli                           libxlsxwriter\n",
      "apm-server                               libzip\n",
      "app-engine-java                          libzzip\n",
      "aqbanking                                linkerd\n",
      "arangodb                                 liquibase\n",
      "argyll-cms                               llnode\n",
      "armadillo                                lnav\n",
      "arpack                                   log4cplus\n",
      "artifactory                              logentries\n",
      "asciinema                                logstalgia\n",
      "asdf                                     logstash\n",
      "astyle                                   lumo\n",
      "ats2-postiats                            lynis\n",
      "auditbeat                                lysp\n",
      "augeas                                   lz4\n",
      "autogen                                  lzip\n",
      "aws-elasticbeanstalk                     lzlib\n",
      "aws-sdk-cpp                              macvim\n",
      "awscli                                   magic-wormhole\n",
      "azure-cli                                makensis\n",
      "babl                                     mame\n",
      "backupninja                              mapnik\n",
      "bam                                      mariadb\n",
      "bandcamp-dl                              mariadb-connector-c\n",
      "baresip                                  mariadb@10.0\n",
      "bartycrouch                              mariadb@10.1\n",
      "bash                                     mas\n",
      "bash-preexec                             mbedtls\n",
      "bazel                                    mdp\n",
      "bcftools                                 memcached\n",
      "bdw-gc                                   mercurial\n",
      "bee                                      meson\n",
      "bench                                    metabase\n",
      "bfg                                      metricbeat\n",
      "bigloo                                   mgba\n",
      "binaryen                                 micro\n",
      "bind                                     micropython\n",
      "binutils                                 mikutter\n",
      "binwalk                                  mingw-w64\n",
      "bit                                      minimal-racket\n",
      "bitcoin                                  minio-mc\n",
      "bitrise                                  minisign\n",
      "blast                                    miniupnpc\n",
      "blueutil                                 mitmproxy\n",
      "boost-mpi                                mksh\n",
      "boost-python                             mkvtoolnix\n",
      "boost@1.57                               mlt\n",
      "boost@1.59                               mlton\n",
      "boost@1.60                               mockserver\n",
      "bork                                     modules\n",
      "botan                                    monetdb\n",
      "bowtie2                                  mongo-c-driver\n",
      "brew-gem                                 mongodb@3.4\n",
      "bro                                      mongoose\n",
      "bsponmpi                                 mp3gain\n",
      "btfs                                     mpc\n",
      "bubbros                                  mpd\n",
      "buildapp                                 mpdas\n",
      "burp                                     mpfr\n",
      "byteman                                  mpich\n",
      "bzt                                      mps-youtube\n",
      "c-ares                                   mpv\n",
      "caddy                                    mrboom\n",
      "cake                                     mruby\n",
      "calabash                                 mu\n",
      "calc                                     multimarkdown\n",
      "camlp5                                   mutt\n",
      "carthage                                 mycli\n",
      "cask                                     mysql\n",
      "cassandra                                mysql@5.5\n",
      "cayley                                   mysql@5.6\n",
      "ccache                                   mytop\n",
      "ccm                                      nailgun\n",
      "certbot                                  nano\n",
      "cfengine                                 nasm\n",
      "cfr-decompiler                           ncdu\n",
      "cfssl                                    nco\n",
      "chakra                                   ncurses\n",
      "charm-tools                              neko\n",
      "checkstyle                               neovim\n",
      "chibi-scheme                             netcdf\n",
      "chisel                                   netpbm\n",
      "chocolate-doom                           nghttp2\n",
      "chromaprint                              nginx\n",
      "chronograf                               nifi\n",
      "chuck                                    node\n",
      "cimg                                     node-build\n",
      "citus                                    node@6\n",
      "cjdns                                    noti\n",
      "clamav                                   nspr\n",
      "clhep                                    nss\n",
      "cloc                                     nuget\n",
      "clojure                                  ocaml\n",
      "cloog                                    ocaml-num\n",
      "closure-compiler                         ocamlsdl\n",
      "cmake                                    octave\n",
      "cockroach                                offlineimap\n",
      "cocoapods                                ola\n",
      "coffeescript                             oniguruma\n",
      "collector-sidecar                        ooniprobe\n",
      "compcert                                 open-mpi\n",
      "conan                                    openblas\n",
      "conjure-up                               opencoarrays\n",
      "consul                                   opencolorio\n",
      "coq                                      opendetex\n",
      "cp2k                                     openrct2\n",
      "cppad                                    openrtsp\n",
      "cppcheck                                 openshift-cli\n",
      "cppcms                                   openssl@1.1\n",
      "cpprestsdk                               orc-tools\n",
      "cracklib                                 ortp\n",
      "cromwell                                 osm2pgrouting\n",
      "crowdin                                  osquery\n",
      "cryfs                                    overmind\n",
      "cryptopp                                 owfs\n",
      "crystal-icr                              p7zip\n",
      "crystal-lang                             packer\n",
      "ctop                                     packetbeat\n",
      "curl                                     packmol\n",
      "daemonize                                paket\n",
      "darksky-weather                          pandoc\n",
      "datetime-fortran                         pandoc-citeproc\n",
      "davmail                                  pandoc-crossref\n",
      "dbhash                                   par2\n",
      "dbus                                     parallel\n",
      "dbus-glib                                passenger\n",
      "dcmtk                                    pc6001vx\n",
      "ddrescue                                 pcb\n",
      "dehydrated                               pdal\n",
      "dep                                      pdns\n",
      "dependency-check                         pdnsrec\n",
      "dfmt                                     pegtl\n",
      "dhall-json                               percona-server\n",
      "diamond                                  percona-server@5.6\n",
      "digdag                                   percona-toolkit\n",
      "dislocker                                percona-xtrabackup\n",
      "ditaa                                    pgloader\n",
      "django-completion                        pgplot\n",
      "dlib                                     pgpool-ii\n",
      "dmd                                      phoronix-test-suite\n",
      "dnscrypt-proxy                           picard-tools\n",
      "dnscrypt-wrapper                         picocom\n",
      "docfx                                    pilosa\n",
      "docker                                   pinentry\n",
      "docker-completion                        pioneer\n",
      "docker-compose                           pipenv\n",
      "docker-gen                               pjproject\n",
      "dpkg                                     planck\n",
      "dscanner                                 plantuml\n",
      "dssim                                    platformio\n",
      "dtc                                      plplot\n",
      "dub                                      plzip\n",
      "duck                                     pmd\n",
      "dungeon                                  pngquant\n",
      "duo_unix                                 ponyc\n",
      "duplicity                                postgis\n",
      "duply                                    postgresql\n",
      "dwarfutils                               postgresql@9.4\n",
      "e2fsprogs                                postgresql@9.5\n",
      "ebook-tools                              postgresql@9.6\n",
      "ecl                                      pre-commit\n",
      "ejabberd                                 presto\n",
      "elasticsearch                            prips\n",
      "elasticsearch@5.6                        proguard\n",
      "elixir                                   prometheus\n",
      "elvish                                   pspg\n",
      "embulk                                   pushpin\n",
      "emscripten                               pwntools\n",
      "encfs                                    py2cairo\n",
      "enchant                                  py3cairo\n",
      "entr                                     pybind11\n",
      "envconsul                                pygobject\n",
      "erlang                                   pyinvoke\n",
      "etcd                                     pypy3\n",
      "etsh                                     pyqt\n",
      "exempi                                   python-markdown\n",
      "exim                                     qd\n",
      "expect                                   qemu\n",
      "f3                                       qpdf\n",
      "faas-cli                                 qpid-proton\n",
      "fabio                                    qrupdate\n",
      "fail2ban                                 qscintilla2\n",
      "fd                                       qt\n",
      "fdclone                                  quantlib\n",
      "feh                                      questdb\n",
      "ffmbc                                    quicktype\n",
      "ffmpeg@2.8                               r\n",
      "fftw                                     rabbitmq\n",
      "fibjs                                    radare2\n",
      "filebeat                                 rakudo-star\n",
      "fio                                      ranger\n",
      "firebase-cli                             ratfor\n",
      "fizmo                                    re2\n",
      "flatcc                                   recon-ng\n",
      "flow                                     redis\n",
      "fltk                                     restic\n",
      "fluent-bit                               rex\n",
      "fn                                       rgbds\n",
      "fobis                                    riemann\n",
      "folly                                    ripgrep\n",
      "fonttools                                rkhunter\n",
      "forego                                   rocksdb\n",
      "format-udf                               rom-tools\n",
      "fossil                                   roswell\n",
      "fox                                      rpm\n",
      "freeciv                                  rsync\n",
      "freedink                                 rtags\n",
      "freeipmi                                 ruby\n",
      "freeradius-server                        ruby@1.8\n",
      "freeswitch                               ruby@2.0\n",
      "freetds                                  ruby@2.2\n",
      "fribidi                                  ruby@2.3\n",
      "frugal                                   rust\n",
      "fuse-zip                                 rustup-init\n",
      "fwup                                     s-nail\n",
      "gammaray                                 s-search\n",
      "gcc                                      s3-backer\n",
      "gcc@4.9                                  sagittarius-scheme\n",
      "gcc@5                                    saldl\n",
      "gcovr                                    saltstack\n",
      "gdal                                     samtools\n",
      "gdb                                      sane-backends\n",
      "gdnsd                                    sassc\n",
      "gecode                                   sbcl\n",
      "geeqie                                   sbt@0.13\n",
      "gegl                                     scala@2.10\n",
      "geoip                                    scalapack\n",
      "geoserver                                sccache\n",
      "get-flash-videos                         sceptre\n",
      "get_iplayer                              schismtracker\n",
      "getdns                                   scipy\n",
      "geth                                     scummvm\n",
      "gexiv2                                   scummvm-tools\n",
      "gforth                                   selenium-server-standalone\n",
      "gifski                                   serialosc\n",
      "gimme                                    sfk\n",
      "ginac                                    shadowsocks-libev\n",
      "git-annex                                shfmt\n",
      "git-archive-all                          simg2img\n",
      "git-extras                               singular\n",
      "git-fresh                                sip\n",
      "git-ftp                                  sjk\n",
      "git-imerge                               sleuthkit\n",
      "git-secret                               snakemake\n",
      "git-standup                              snapcraft\n",
      "git-town                                 snappystream\n",
      "gitbucket                                sngrep\n",
      "github-keygen                            socat\n",
      "gitlab-runner                            solr\n",
      "gitless                                  sonarqube\n",
      "gjs                                      sops\n",
      "glade                                    sourcekitten\n",
      "global                                   sourcery\n",
      "glpk                                     spades\n",
      "gmsh                                     spdlog\n",
      "gnome-doc-utils                          speech-tools\n",
      "gnutls                                   speedtest-cli\n",
      "go                                       sphinx-doc\n",
      "go@1.8                                   spigot\n",
      "gobuster                                 sqldiff\n",
      "godep                                    sqlite-analyzer\n",
      "goenv                                    sqlmap\n",
      "gollum                                   ssh-audit\n",
      "gomplate                                 sslh\n",
      "googler                                  sslsplit\n",
      "gopass                                   sslyze\n",
      "gource                                   statik\n",
      "gpatch                                   stella\n",
      "gradle                                   stk\n",
      "grakn                                    stlink\n",
      "graphicsmagick                           stockfish\n",
      "gromacs                                  storm\n",
      "groonga                                  streamlink\n",
      "grpc                                     stress-ng\n",
      "gsoap                                    strongswan\n",
      "gtk+3                                    stubby\n",
      "guile                                    subversion\n",
      "guile@2.0                                sundials\n",
      "gutenberg                                superlu\n",
      "gwenhywfar                               supervisor\n",
      "gwt                                      surfraw\n",
      "gwyddion                                 suricata\n",
      "gxml                                     svgcleaner\n",
      "hadolint                                 svgo\n",
      "hadoop                                   swagger-codegen\n",
      "haproxy                                  swi-prolog\n",
      "harfbuzz                                 swiftformat\n",
      "hashcat                                  swiftlint\n",
      "haskell-stack                            sword\n",
      "hatari                                   syncthing\n",
      "haxe                                     sysbench\n",
      "hdf5                                     sysdig\n",
      "hdf5@1.8                                 systemc\n",
      "heartbeat                                taisei\n",
      "heroku                                   taktuk\n",
      "hg-fast-export                           talloc\n",
      "highlight                                telegraf\n",
      "hostess                                  teleport\n",
      "html-xml-utils                           termius\n",
      "htmldoc                                  terraform\n",
      "htop                                     terragrunt\n",
      "htslib                                   texmath\n",
      "http-parser                              tig\n",
      "hubflow                                  tile38\n",
      "huexpress                                timewarrior\n",
      "hugo                                     tin\n",
      "hwloc                                    tintin\n",
      "hyperscan                                tippecanoe\n",
      "hypre                                    tldr\n",
      "i2p                                      tnef\n",
      "ib                                       todoman\n",
      "ibex                                     tokei\n",
      "ice                                      tomcat\n",
      "ideviceinstaller                         tomcat-native\n",
      "idnits                                   tomee-webprofile\n",
      "igv                                      tracebox\n",
      "imagemagick                              traefik\n",
      "imagemagick@6                            trafficserver\n",
      "imagesnap                                transmission\n",
      "infer                                    ttf2eot\n",
      "influxdb                                 ttyd\n",
      "innotop                                  twarc\n",
      "inspectrum                               txr\n",
      "iperf3                                   typescript\n",
      "ipython@5                                ucon64\n",
      "iron-functions                           udpxy\n",
      "irssi                                    udunits\n",
      "isc-dhcp                                 uhd\n",
      "jags                                     unbound\n",
      "javarepl                                 unibilium\n",
      "jenkins                                  unison\n",
      "jenkins-job-builder                      unixodbc\n",
      "jenkins-lts                              urh\n",
      "jetty                                    uriparser\n",
      "jetty-runner                             userspace-rcu\n",
      "jfrog-cli-go                             uwsgi\n",
      "jhiccup                                  vagrant-completion\n",
      "jhipster                                 vala\n",
      "jmeter                                   vapoursynth\n",
      "joplin                                   vault\n",
      "jruby                                    vdirsyncer\n",
      "json-fortran                             veclibfort\n",
      "juju                                     verilator\n",
      "just                                     vert.x\n",
      "jvgrep                                   vifm\n",
      "jvm-mon                                  vim\n",
      "kafka                                    vim@7.4\n",
      "kaitai-struct-compiler                   vips\n",
      "kallisto                                 vte\n",
      "kedge                                    w3m\n",
      "khard                                    webpack\n",
      "kibana                                   weechat\n",
      "kibana@5.6                               whohas\n",
      "kitchen-sync                             whois\n",
      "kite                                     wiggle\n",
      "knot                                     wine\n",
      "knot-resolver                            winetricks\n",
      "kobalt                                   wiredtiger\n",
      "kompose                                  wireguard-tools\n",
      "konoha                                   wpcli-completion\n",
      "kops                                     wpscan\n",
      "kotlin                                   wrk\n",
      "kubeless                                 wtf\n",
      "kubernetes-cli                           wwwoffle\n",
      "kubernetes-helm                          wxmaxima\n",
      "lammps                                   wxpython\n",
      "landscaper                               x3270\n",
      "lapack                                   xmake\n",
      "latex2html                               xml-tooling-c\n",
      "lbdb                                     xmrig\n",
      "ldns                                     xpdf\n",
      "leaps                                    xrootd\n",
      "ledit                                    xtensor\n",
      "leptonica                                xxhash\n",
      "less                                     yaml-cpp\n",
      "libav                                    yara\n",
      "libbitcoin                               yaze-ag\n",
      "libbitcoin-blockchain                    ykman\n",
      "libbitcoin-database                      ykneomgr\n",
      "libbitcoin-explorer                      ykpers\n",
      "libbitcoin-node                          yle-dl\n",
      "libbitcoin-server                        you-get\n",
      "libdvdnav                                youtube-dl\n",
      "libdvdread                               zabbix\n",
      "libebur128                               zanata-client\n",
      "libgee                                   zile\n",
      "libgetdata                               zimg\n",
      "libgosu                                  zsh-lovers\n",
      "libgtop\n",
      "\u001b[34m==>\u001b[0m \u001b[1mRenamed Formulae\u001b[0m\n",
      "ssreflect -> math-comp                   tachyon -> alluxio\n",
      "\u001b[34m==>\u001b[0m \u001b[1mDeleted Formulae\u001b[0m\n",
      "antlr@3                                  juju@1.25\n",
      "apache-spark@1.5                         kubernetes-cli@1.3\n",
      "apache-spark@1.6                         laszip@2\n",
      "autoconf@2.64                            ledger@2.6\n",
      "automake@1.12                            libmpc@0.8\n",
      "azure-cli@1                              libpng@1.2\n",
      "bazel@0.2                                libpqxx@3\n",
      "clang-format@3.8                         librealsense@1\n",
      "cloog@0.15                               libxml2@2.7\n",
      "clozure-cl                               logstash@2.4\n",
      "docker@1.11                              logstash@5.6\n",
      "docker@1.71                              mg3a\n",
      "eigen@3.2                                moodbar\n",
      "gcc@4.6                                  mpfr@2\n",
      "gcc@4.7                                  mvptree\n",
      "gcc@4.8                                  open-mpi@1.6\n",
      "glfw@2                                   pcap_dnsproxy\n",
      "gmp@4                                    percona-server@5.5\n",
      "go@1.5                                   perl@5.14\n",
      "go@1.6                                   ppl@0.11\n",
      "go@1.7                                   qt@5.7\n",
      "grails@2.5                               redis@2.6\n",
      "gsl@1                                    root@5\n",
      "gst-plugins-bad@0.10                     ruby@1.9\n",
      "gst-plugins-base@0.10                    ruby@2.1\n",
      "gst-plugins-good@0.10                    selenium-server-standalone@2.45\n",
      "gst-plugins-ugly@0.10                    srtp@1.6\n",
      "gstreamer@0.10                           swig@2\n",
      "influxdb@0.8                             talk-filters\n",
      "isl@0.11                                 tomcat@8.0\n",
      "isl@0.12                                 unison@2.40\n",
      "isl@0.14                                 zeromq@3.2\n",
      "jetty@8                                  zeromq@4.0\n",
      "jpeg@6                                   zeromq@4.1\n",
      "\n",
      "\u001b[31mError:\u001b[0m Could not link:\n",
      "/usr/local/etc/bash_completion.d/brew\n",
      "\n",
      "Please delete these paths and run `brew update`.\n",
      "\u001b[31mError:\u001b[0m Could not link:\n",
      "/usr/local/share/zsh/site-functions/_brew\n",
      "\n",
      "Please delete these paths and run `brew update`.\n",
      "\u001b[31mError:\u001b[0m Could not link:\n",
      "/usr/local/share/man/man1/brew.1\n",
      "\n",
      "Please delete these paths and run `brew update`.\n",
      "\u001b[31mError:\u001b[0m Could not link:\n",
      "/usr/local/share/doc/homebrew\n",
      "\n",
      "Please delete these paths and run `brew update`.\n",
      "\u001b[31mError:\u001b[0m No available formula with the name \"python-opengl\" \n",
      "\u001b[34m==>\u001b[0m \u001b[1mSearching for a previously deleted formula (in the last month)...\u001b[0m\n",
      "\u001b[33mWarning:\u001b[0m homebrew/core is shallow clone. To get complete history run:\n",
      "  git -C \"$(brew --repo homebrew/core)\" fetch --unshallow\n",
      "\n",
      "\u001b[31mError:\u001b[0m No previously deleted formula found.\n",
      "\u001b[34m==>\u001b[0m \u001b[1mSearching for similarly named formulae...\u001b[0m\n",
      "\u001b[34m==>\u001b[0m \u001b[1mSearching local taps...\u001b[0m\n",
      "\u001b[31mError:\u001b[0m No similarly named formulae found.\n",
      "\u001b[34m==>\u001b[0m \u001b[1mSearching taps...\u001b[0m\n",
      "\u001b[34m==>\u001b[0m \u001b[1mSearching taps on GitHub...\u001b[0m\n",
      "\u001b[31mError:\u001b[0m No formulae found in taps.\n"
     ]
    }
   ],
   "source": [
    "!brew install python-opengl"
   ]
  },
  {
   "cell_type": "code",
   "execution_count": null,
   "metadata": {
    "collapsed": false
   },
   "outputs": [
    {
     "name": "stdout",
     "output_type": "stream",
     "text": [
      "\u001b[34m==>\u001b[0m \u001b[1mDownloading https://homebrew.bintray.com/bottles/cmake-3.10.2.high_sierra.bo\u001b[0m\n",
      "\u001b[34m==>\u001b[0m \u001b[1mDownloading from https://akamai.bintray.com/7a/7ad98f403e21c76cfd0789d83acff\u001b[0m\n",
      "######################################################################## 100.0%\n",
      "\u001b[34m==>\u001b[0m \u001b[1mPouring cmake-3.10.2.high_sierra.bottle.tar.gz\u001b[0m\n",
      "\u001b[34m==>\u001b[0m \u001b[1mCaveats\u001b[0m\n",
      "Emacs Lisp files have been installed to:\n",
      "  /usr/local/share/emacs/site-lisp/cmake\n",
      "\u001b[34m==>\u001b[0m \u001b[1mSummary\u001b[0m\n",
      "🍺  /usr/local/Cellar/cmake/3.10.2: 2,334 files, 32.4MB\n",
      "\u001b[34m==>\u001b[0m \u001b[1mDownloading https://homebrew.bintray.com/bottles/boost-1.66.0.high_sierra.bo\u001b[0m\n",
      "\u001b[34m==>\u001b[0m \u001b[1mDownloading from https://akamai.bintray.com/78/78cb090c515e20aa7307c6619a055\u001b[0m\n",
      "######################################################################## 100.0%\n",
      "\u001b[34m==>\u001b[0m \u001b[1mPouring boost-1.66.0.high_sierra.bottle.tar.gz\u001b[0m\n",
      "🍺  /usr/local/Cellar/boost/1.66.0: 13,101 files, 435.2MB\n",
      "\u001b[34m==>\u001b[0m \u001b[1mDownloading https://homebrew.bintray.com/bottles/boost-python-1.66.0_1.high_\u001b[0m\n",
      "\u001b[34m==>\u001b[0m \u001b[1mDownloading from https://akamai.bintray.com/90/908a5484b565b1ee55ccec7d1f3e1\u001b[0m\n",
      "######################################################################## 100.0%\n",
      "\u001b[34m==>\u001b[0m \u001b[1mPouring boost-python-1.66.0_1.high_sierra.bottle.tar.gz\u001b[0m\n",
      "🍺  /usr/local/Cellar/boost-python/1.66.0_1: 457 files, 17.3MB\n",
      "\u001b[34m==>\u001b[0m \u001b[1mDownloading https://homebrew.bintray.com/bottles/sdl2-2.0.7.high_sierra.bott\u001b[0m\n",
      "\u001b[34m==>\u001b[0m \u001b[1mDownloading from https://akamai.bintray.com/d3/d3436a34a1795c14dd71616ea222b\u001b[0m\n",
      "######################################################################## 100.0%\n",
      "\u001b[34m==>\u001b[0m \u001b[1mPouring sdl2-2.0.7.high_sierra.bottle.tar.gz\u001b[0m\n",
      "🍺  /usr/local/Cellar/sdl2/2.0.7: 86 files, 3.9MB\n",
      "\u001b[32m==>\u001b[0m \u001b[1mInstalling dependencies for swig: \u001b[32mpcre\u001b[39m\u001b[0m\n",
      "\u001b[32m==>\u001b[0m \u001b[1mInstalling swig dependency: \u001b[32mpcre\u001b[39m\u001b[0m\n",
      "\u001b[34m==>\u001b[0m \u001b[1mDownloading https://homebrew.bintray.com/bottles/pcre-8.41.high_sierra.bottl\u001b[0m\n",
      "\u001b[34m==>\u001b[0m \u001b[1mDownloading from https://akamai.bintray.com/6e/6e2e0ebd0abcee47fe9e7eb0f2353\u001b[0m\n",
      "######################################################################## 100.0%\n",
      "\u001b[34m==>\u001b[0m \u001b[1mPouring pcre-8.41.high_sierra.bottle.tar.gz\u001b[0m\n",
      "🍺  /usr/local/Cellar/pcre/8.41: 204 files, 5.3MB\n",
      "\u001b[32m==>\u001b[0m \u001b[1mInstalling \u001b[32mswig\u001b[39m\u001b[0m\n",
      "\u001b[34m==>\u001b[0m \u001b[1mDownloading https://homebrew.bintray.com/bottles/swig-3.0.12.high_sierra.bot\u001b[0m\n",
      "\u001b[34m==>\u001b[0m \u001b[1mDownloading from https://akamai.bintray.com/c0/c0e2656fd10d57281280d20ce8bf9\u001b[0m\n",
      "######################################################################## 100.0%\n",
      "\u001b[34m==>\u001b[0m \u001b[1mPouring swig-3.0.12.high_sierra.bottle.tar.gz\u001b[0m\n"
     ]
    }
   ],
   "source": [
    "!brew install cmake boost boost-python sdl2 swig wget"
   ]
  },
  {
   "cell_type": "code",
   "execution_count": 1,
   "metadata": {
    "colab": {
     "autoexec": {
      "startup": false,
      "wait_interval": 0
     }
    },
    "colab_type": "code",
    "collapsed": false,
    "id": "aEzmKA8KvGXT"
   },
   "outputs": [
    {
     "ename": "ModuleNotFoundError",
     "evalue": "No module named 'gym'",
     "output_type": "error",
     "traceback": [
      "\u001b[0;31m---------------------------------------------------------------------------\u001b[0m",
      "\u001b[0;31mModuleNotFoundError\u001b[0m                       Traceback (most recent call last)",
      "\u001b[0;32m<ipython-input-1-f09a1c9ca903>\u001b[0m in \u001b[0;36m<module>\u001b[0;34m()\u001b[0m\n\u001b[1;32m      3\u001b[0m \u001b[0;32mimport\u001b[0m \u001b[0mos\u001b[0m\u001b[0;34m\u001b[0m\u001b[0m\n\u001b[1;32m      4\u001b[0m \u001b[0;32mimport\u001b[0m \u001b[0msys\u001b[0m\u001b[0;34m\u001b[0m\u001b[0m\n\u001b[0;32m----> 5\u001b[0;31m \u001b[0;32mimport\u001b[0m \u001b[0mgym\u001b[0m\u001b[0;34m\u001b[0m\u001b[0m\n\u001b[0m\u001b[1;32m      6\u001b[0m \u001b[0;32mimport\u001b[0m \u001b[0mmatplotlib\u001b[0m\u001b[0;34m.\u001b[0m\u001b[0mpyplot\u001b[0m \u001b[0;32mas\u001b[0m \u001b[0mplt\u001b[0m\u001b[0;34m\u001b[0m\u001b[0m\n\u001b[1;32m      7\u001b[0m \u001b[0;32mfrom\u001b[0m \u001b[0mmatplotlib\u001b[0m\u001b[0;34m.\u001b[0m\u001b[0mpyplot\u001b[0m \u001b[0;32mimport\u001b[0m \u001b[0mimshow\u001b[0m\u001b[0;34m\u001b[0m\u001b[0m\n",
      "\u001b[0;31mModuleNotFoundError\u001b[0m: No module named 'gym'"
     ]
    }
   ],
   "source": [
    "# Common imports\n",
    "import numpy as np\n",
    "import os\n",
    "import sys\n",
    "import gym\n",
    "import matplotlib.pyplot as plt\n",
    "from matplotlib.pyplot import imshow\n",
    "import numpy as np\n",
    "from PIL import Image, ImageDraw, ImageFont\n",
    "import time\n",
    "from tqdm import tqdm_notebook\n",
    "import tensorflow as tf\n",
    "%matplotlib nbagg"
   ]
  },
  {
   "cell_type": "code",
   "execution_count": 0,
   "metadata": {
    "colab": {
     "autoexec": {
      "startup": false,
      "wait_interval": 0
     }
    },
    "colab_type": "code",
    "collapsed": true,
    "id": "FnjkGVjbvGXW"
   },
   "outputs": [],
   "source": [
    "os.chdir('..')"
   ]
  },
  {
   "cell_type": "code",
   "execution_count": 4,
   "metadata": {
    "colab": {
     "autoexec": {
      "startup": false,
      "wait_interval": 0
     },
     "base_uri": "https://localhost:8080/",
     "height": 368,
     "output_extras": [
      {
       "item_id": 1
      }
     ]
    },
    "colab_type": "code",
    "collapsed": false,
    "executionInfo": {
     "elapsed": 487,
     "status": "error",
     "timestamp": 1519330433322,
     "user": {
      "displayName": "Luke Woods",
      "photoUrl": "//lh5.googleusercontent.com/-T2fU76Zpl4Q/AAAAAAAAAAI/AAAAAAAAI-U/kjJiIsiXSxQ/s50-c-k-no/photo.jpg",
      "userId": "118435771259044284350"
     },
     "user_tz": 0
    },
    "id": "LbUlbe0BvGXY",
    "outputId": "a30b86eb-6bf3-4486-bba3-15c39fb4c6c3"
   },
   "outputs": [
    {
     "ename": "ModuleNotFoundError",
     "evalue": "ignored",
     "output_type": "error",
     "traceback": [
      "\u001b[0;31m---------------------------------------------------------------------------\u001b[0m",
      "\u001b[0;31mModuleNotFoundError\u001b[0m                       Traceback (most recent call last)",
      "\u001b[0;32m<ipython-input-4-f65ad9461de4>\u001b[0m in \u001b[0;36m<module>\u001b[0;34m()\u001b[0m\n\u001b[1;32m      1\u001b[0m \u001b[0;34m\u001b[0m\u001b[0m\n\u001b[0;32m----> 2\u001b[0;31m \u001b[0;32mfrom\u001b[0m \u001b[0mrender_utils\u001b[0m \u001b[0;32mimport\u001b[0m \u001b[0;34m*\u001b[0m\u001b[0;34m\u001b[0m\u001b[0m\n\u001b[0m\u001b[1;32m      3\u001b[0m \u001b[0;32mfrom\u001b[0m \u001b[0mreward_functions\u001b[0m \u001b[0;32mimport\u001b[0m \u001b[0;34m*\u001b[0m\u001b[0;34m\u001b[0m\u001b[0m\n\u001b[1;32m      4\u001b[0m \u001b[0;34m\u001b[0m\u001b[0m\n\u001b[1;32m      5\u001b[0m \u001b[0mget_ipython\u001b[0m\u001b[0;34m(\u001b[0m\u001b[0;34m)\u001b[0m\u001b[0;34m.\u001b[0m\u001b[0mmagic\u001b[0m\u001b[0;34m(\u001b[0m\u001b[0;34m'load_ext autoreload'\u001b[0m\u001b[0;34m)\u001b[0m\u001b[0;34m\u001b[0m\u001b[0m\n",
      "\u001b[0;31mModuleNotFoundError\u001b[0m: No module named 'render_utils'",
      "",
      "\u001b[0;31m---------------------------------------------------------------------------\u001b[0;32m\nNOTE: If your import is failing due to a missing package, you can\nmanually install dependencies using either !pip or !apt.\n\nTo view examples of installing some common dependencies, click the\n\"Open Examples\" button below.\n\u001b[0;31m---------------------------------------------------------------------------\u001b[0m\n"
     ]
    }
   ],
   "source": [
    "# Utility function that hides a lot of the heavy lifting\n",
    "\n",
    "from render_utils import *\n",
    "from reward_functions import *\n",
    "\n",
    "%load_ext autoreload\n",
    "%autoreload 2"
   ]
  },
  {
   "cell_type": "code",
   "execution_count": 0,
   "metadata": {
    "colab": {
     "autoexec": {
      "startup": false,
      "wait_interval": 0
     }
    },
    "colab_type": "code",
    "collapsed": true,
    "id": "n7fQo509J__W"
   },
   "outputs": [],
   "source": [
    "# When the import above doesn't work\n",
    "\n",
    "import numpy as np\n",
    "import os\n",
    "import sys\n",
    "import gym\n",
    "import matplotlib.pyplot as plt\n",
    "from matplotlib.pyplot import imshow\n",
    "import matplotlib\n",
    "import matplotlib.animation as animation\n",
    "import numpy as np\n",
    "from PIL import Image\n",
    "import time\n",
    "from PIL import Image, ImageDraw, ImageFont\n",
    "import tensorflow as tf\n",
    "\n",
    "\n",
    "# Where to save the figures\n",
    "PROJECT_ROOT_DIR = \".\"\n",
    "CHAPTER_ID = \"rl\"\n",
    "\n",
    "\n",
    "def reset_graph(seed=42):\n",
    "    tf.reset_default_graph()\n",
    "    tf.set_random_seed(seed)\n",
    "    np.random.seed(seed)\n",
    "\n",
    "\n",
    "def save_fig(fig_id, tight_layout=True):\n",
    "    path = os.path.join(PROJECT_ROOT_DIR, \"images\", CHAPTER_ID, fig_id + \".png\")\n",
    "    print(\"Saving figure\", fig_id)\n",
    "    if tight_layout:\n",
    "        plt.tight_layout()\n",
    "    plt.savefig(path, format='png', dpi=300)\n",
    "\n",
    "\n",
    "# ----------------------------- Render Functions -----------------------------------\n",
    "\n",
    "\n",
    "try:\n",
    "    from pyglet.gl import gl_info\n",
    "\n",
    "    openai_cart_pole_rendering = True  # no problem, let's use OpenAI gym's rendering function\n",
    "except Exception:\n",
    "    openai_cart_pole_rendering = False  # probably no X server available, let's use our own rendering function\n",
    "\n",
    "\n",
    "def update_scene(num, frames, patch):\n",
    "    patch.set_data(frames[num])\n",
    "    return patch,\n",
    "\n",
    "\n",
    "def plot_animation(frames, repeat=False, interval=40):\n",
    "    plt.close()  # or else nbagg sometimes plots in the previous cell\n",
    "    fig = plt.figure()\n",
    "    patch = plt.imshow(frames[0])\n",
    "    plt.axis('off')\n",
    "    return animation.FuncAnimation(fig, update_scene, fargs=(frames, patch), frames=len(frames), repeat=repeat,\n",
    "                                   interval=interval)\n",
    "\n",
    "\n",
    "def plot_environment(env, figsize=(5, 4)):\n",
    "    plt.close()  # or else nbagg sometimes plots in the previous cell\n",
    "    plt.figure(figsize=figsize)\n",
    "    img = env.render(mode=\"rgb_array\")\n",
    "    plt.imshow(img)\n",
    "    plt.axis(\"off\")\n",
    "    plt.show()\n",
    "\n",
    "\n",
    "# ----------------------------- Custom HUD -----------------------------------\n",
    "\n",
    "\n",
    "def render_cart_pole(env, obs, step, action_val):\n",
    "    if not openai_cart_pole_rendering:\n",
    "        # use OpenAI gym's rendering function\n",
    "        return env.render(mode=\"rgb_array\")\n",
    "    else:\n",
    "        # rendering for the cart pole environment (in case OpenAI gym can't do it)\n",
    "        img_w = 600\n",
    "        img_h = 400\n",
    "        cart_w = img_w // 12\n",
    "        cart_h = img_h // 15\n",
    "        pole_len = img_h // 3.5\n",
    "        pole_w = img_w // 80 + 1\n",
    "        x_width = 2\n",
    "        max_ang = 0.2\n",
    "        bg_col = (255, 255, 255)\n",
    "        cart_col = 0x000000  # Blue Green Red\n",
    "        pole_col = 0x669acc  # Blue Green Red\n",
    "\n",
    "        pos, vel, ang, ang_vel = obs\n",
    "        img = Image.new('RGB', (img_w, img_h), bg_col)\n",
    "        draw = ImageDraw.Draw(img)\n",
    "        cart_x = pos * img_w // x_width + img_w // x_width\n",
    "        cart_y = img_h * 95 // 100\n",
    "        top_pole_x = cart_x + pole_len * np.sin(ang)\n",
    "        top_pole_y = cart_y - cart_h // 2 - pole_len * np.cos(ang)\n",
    "        draw.line((0, cart_y, img_w, cart_y), fill=0)\n",
    "        draw.line((cart_x, cart_y - cart_h // 2, top_pole_x, top_pole_y), fill=pole_col, width=pole_w)  # draw pole\n",
    "\n",
    "        # --------------- Render HUD --------------------\n",
    "        font = ImageFont.truetype(\"arial.ttf\", 16)\n",
    "\n",
    "\n",
    "        # draw.text((100, 200), str(action_val), font=font, fill=(255, 0, 0, 255))  # Left/right action\n",
    "        # draw.text((0, 100), 'x_pos {:0.4f}\\nstep     {}'\n",
    "        #           .format(obs[0], step),\n",
    "        #           font=font, fill=(150, 150, 150, 255))\n",
    "\n",
    "        draw.line((cart_x, cart_y - cart_h // 2, top_pole_x, top_pole_y), fill=pole_col, width=pole_w)\n",
    "\n",
    "        if action_val == 1:\n",
    "            cart_p1 = (cart_x - cart_w // 2, cart_y - cart_h // 3)\n",
    "            cart_p2 = (cart_x - cart_w // 2, cart_y + cart_h // 3)\n",
    "            arrow_point = (cart_x - cart_w // 1.3, cart_y)\n",
    "            draw.polygon([cart_p1, cart_p2, arrow_point], fill=(255, 0, 0))  # draw thrust arrow left\n",
    "        else:\n",
    "            cart_p3 = (cart_x + cart_w // 2, cart_y - cart_h // 3)\n",
    "            cart_p4 = (cart_x + cart_w // 2, cart_y + cart_h // 3)\n",
    "            arrow_point_r = (cart_x + cart_w // 1.3, cart_y)\n",
    "            draw.polygon([cart_p3, cart_p4, arrow_point_r], fill=(255, 0, 0))  # draw thrust arrow right\n",
    "\n",
    "\n",
    "        draw.rectangle((cart_x - cart_w // 2, cart_y - cart_h // 2, cart_x + cart_w // 2, cart_y + cart_h // 2),\n",
    "                       fill=cart_col)  # draw cart\n",
    "        draw.text((cart_x - cart_w // 2 + 22 - 4 * len(str(step)), 370), str(step), font=font,\n",
    "                  fill=(255, 255, 255, 255))\n",
    "\n",
    "        return np.array(img)\n",
    "\n"
   ]
  },
  {
   "cell_type": "code",
   "execution_count": 9,
   "metadata": {
    "colab": {
     "autoexec": {
      "startup": false,
      "wait_interval": 0
     },
     "base_uri": "https://localhost:8080/",
     "height": 34,
     "output_extras": [
      {
       "item_id": 1
      }
     ]
    },
    "colab_type": "code",
    "collapsed": false,
    "executionInfo": {
     "elapsed": 470,
     "status": "ok",
     "timestamp": 1519330656554,
     "user": {
      "displayName": "Luke Woods",
      "photoUrl": "//lh5.googleusercontent.com/-T2fU76Zpl4Q/AAAAAAAAAAI/AAAAAAAAI-U/kjJiIsiXSxQ/s50-c-k-no/photo.jpg",
      "userId": "118435771259044284350"
     },
     "user_tz": 0
    },
    "id": "ioS2py5aJsNb",
    "outputId": "f177f1d5-5f00-4dd3-a629-e228b7ec5870"
   },
   "outputs": [
    {
     "data": {
      "text/plain": [
       "'\\nNew reward function:\\n    Add penalty for (-theta) and (+momentum)\\n    or the inverse: (+theta) and (-momentum)\\n'"
      ]
     },
     "execution_count": 9,
     "metadata": {
      "tags": []
     },
     "output_type": "execute_result"
    }
   ],
   "source": [
    "\n",
    "import numpy as np\n",
    "# from render_utils import *\n",
    "import math\n",
    "\n",
    "\n",
    "def discount_rewards(rewards, discount_rate, obs):\n",
    "    \"\"\" Modify reward to improve historic behaviour \"\"\"\n",
    "\n",
    "    discounted_rewards = np.zeros(len(rewards))\n",
    "    cumulative_rewards = 0\n",
    "    phi = 1.0\n",
    "\n",
    "    # print('step, obs[step], rewards[step], drift_penalty, cumulative_rewards, discounted_rewards[step]')\n",
    "\n",
    "    for step in reversed(range(len(rewards))):\n",
    "        # Prevent DRIFT by adding penalty (distance from centre)\n",
    "        drift_penalty = phi * abs(obs[step][0])\n",
    "\n",
    "        # drift_penalty = max(0.2, phi * abs(obs[step][0]))\n",
    "        # drift_penalty = 0.5 if abs(obs[step][0]) > 0.3 else 0\n",
    "\n",
    "        cumulative_rewards = rewards[step] + cumulative_rewards * discount_rate - drift_penalty\n",
    "        discounted_rewards[step] = cumulative_rewards\n",
    "        # print(step, obs[step], rewards[step], drift_penalty, cumulative_rewards, discounted_rewards[step])\n",
    "\n",
    "    return discounted_rewards\n",
    "\n",
    "\n",
    "def discount_and_normalize_rewards(all_rewards, all_obs, discount_rate):\n",
    "    all_discounted_rewards = [discount_rewards(rewards, discount_rate, all_obs[i])\n",
    "                              for i, rewards in enumerate(all_rewards)]\n",
    "    flat_rewards = np.concatenate(all_discounted_rewards)\n",
    "    reward_mean = flat_rewards.mean()\n",
    "    reward_std = flat_rewards.std()\n",
    "    return [(discounted_rewards - reward_mean)/reward_std for discounted_rewards in all_discounted_rewards]\n",
    "\n",
    "\n",
    "\"\"\"\n",
    "New reward function:\n",
    "    Add penalty for (-theta) and (+momentum)\n",
    "    or the inverse: (+theta) and (-momentum)\n",
    "\"\"\""
   ]
  },
  {
   "cell_type": "code",
   "execution_count": 10,
   "metadata": {
    "colab": {
     "autoexec": {
      "startup": false,
      "wait_interval": 0
     },
     "base_uri": "https://localhost:8080/",
     "height": 51,
     "output_extras": [
      {
       "item_id": 1
      },
      {
       "item_id": 2
      }
     ]
    },
    "colab_type": "code",
    "collapsed": false,
    "executionInfo": {
     "elapsed": 434,
     "status": "ok",
     "timestamp": 1519330661099,
     "user": {
      "displayName": "Luke Woods",
      "photoUrl": "//lh5.googleusercontent.com/-T2fU76Zpl4Q/AAAAAAAAAAI/AAAAAAAAI-U/kjJiIsiXSxQ/s50-c-k-no/photo.jpg",
      "userId": "118435771259044284350"
     },
     "user_tz": 0
    },
    "id": "v9wGxVg6vGXc",
    "outputId": "a663f988-fd2c-43f7-a21a-3d22c7fd2677"
   },
   "outputs": [
    {
     "name": "stdout",
     "output_type": "stream",
     "text": [
      "\u001b[33mWARN: gym.spaces.Box autodetected dtype as <class 'numpy.float32'>. Please provide explicit dtype.\u001b[0m\n"
     ]
    },
    {
     "data": {
      "text/plain": [
       "array([-0.03861935, -0.00967731,  0.00170503, -0.0040774 ])"
      ]
     },
     "execution_count": 10,
     "metadata": {
      "tags": []
     },
     "output_type": "execute_result"
    }
   ],
   "source": [
    "# ---------- Initialise CartePole -------------\n",
    "env = gym.make('CartPole-v0')\n",
    "obs = env.reset()\n",
    "obs"
   ]
  },
  {
   "cell_type": "markdown",
   "metadata": {
    "colab_type": "text",
    "id": "pGZl32kZvGXh"
   },
   "source": [
    "* `obs` is the new observation \n",
    "        [position of cart, velocity of cart, angle of pole, rotation rate of pole]\n",
    "* `reward` is given 1 point at every step, the goal is to keep running as long as possible\n",
    "* `done` This value will be true when the episode is over\n",
    "* `info` This dictionary may provide extra debug information in other environments"
   ]
  },
  {
   "cell_type": "markdown",
   "metadata": {
    "colab_type": "text",
    "id": "2VLxCEcpvGXi"
   },
   "source": [
    "The episode ends when the pole is more than 15 degrees from vertical, or the cart moves more than 2.4 units from the center."
   ]
  },
  {
   "cell_type": "code",
   "execution_count": 0,
   "metadata": {
    "colab": {
     "autoexec": {
      "startup": false,
      "wait_interval": 0
     }
    },
    "colab_type": "code",
    "collapsed": true,
    "id": "urKZHh0ZvGXi"
   },
   "outputs": [],
   "source": [
    "# Helper functions\n",
    "\n",
    "def reset_graph(seed=42):\n",
    "    tf.reset_default_graph()\n",
    "    tf.set_random_seed(seed)\n",
    "    np.random.seed(seed)\n",
    "\n",
    "# To plot pretty figures and animations\n",
    "%matplotlib nbagg\n",
    "import matplotlib\n",
    "import matplotlib.animation as animation\n",
    "plt.rcParams['axes.labelsize'] = 14\n",
    "plt.rcParams['xtick.labelsize'] = 12\n",
    "plt.rcParams['ytick.labelsize'] = 12\n",
    "\n",
    "# Where to save the figures\n",
    "PROJECT_ROOT_DIR = \".\"\n",
    "CHAPTER_ID = \"rl\"\n",
    "\n",
    "def save_fig(fig_id, tight_layout=True):\n",
    "    path = os.path.join(PROJECT_ROOT_DIR, \"images\", CHAPTER_ID, fig_id + \".png\")\n",
    "    print(\"Saving figure\", fig_id)\n",
    "    if tight_layout:\n",
    "        plt.tight_layout()\n",
    "    plt.savefig(path, format='png', dpi=300)"
   ]
  },
  {
   "cell_type": "markdown",
   "metadata": {
    "colab_type": "text",
    "id": "wzfCViRtvGXm"
   },
   "source": [
    "### Reinforcement Learning - Policy Gradients\n",
    "* The Policy Gradients algorithm tackles the problem by playing multiple games"
   ]
  },
  {
   "cell_type": "code",
   "execution_count": 0,
   "metadata": {
    "colab": {
     "autoexec": {
      "startup": false,
      "wait_interval": 0
     }
    },
    "colab_type": "code",
    "collapsed": true,
    "id": "6cb62M_3vGXn"
   },
   "outputs": [],
   "source": [
    "# ------- Build Tensorflow Graph -------\n",
    "\n",
    "import tensorflow as tf\n",
    "\n",
    "reset_graph()\n",
    "\n",
    "n_inputs = 4\n",
    "n_hidden = 12\n",
    "n_outputs = 1\n",
    "\n",
    "learning_rate = 0.05\n",
    "\n",
    "initializer = tf.variance_scaling_initializer()\n",
    "\n",
    "X = tf.placeholder(tf.float32, shape=[None, n_inputs])\n",
    "\n",
    "hidden = tf.layers.dense(X, n_hidden, activation=tf.nn.elu, kernel_initializer=initializer)\n",
    "logits = tf.layers.dense(hidden, n_outputs)\n",
    "outputs = tf.nn.sigmoid(logits)  # probability of action 0 (left)\n",
    "p_left_and_right = tf.concat(axis=1, values=[outputs, 1 - outputs])\n",
    "action = tf.multinomial(tf.log(p_left_and_right), num_samples=1)\n",
    "\n",
    "y = 1. - tf.to_float(action)\n",
    "cross_entropy = tf.nn.sigmoid_cross_entropy_with_logits(labels=y, logits=logits)\n",
    "optimizer = tf.train.AdamOptimizer(learning_rate)\n",
    "grads_and_vars = optimizer.compute_gradients(cross_entropy)\n",
    "gradients = [grad for grad, variable in grads_and_vars]\n",
    "gradient_placeholders = []\n",
    "grads_and_vars_feed = []\n",
    "for grad, variable in grads_and_vars:\n",
    "    gradient_placeholder = tf.placeholder(tf.float32, shape=grad.get_shape())\n",
    "    gradient_placeholders.append(gradient_placeholder)\n",
    "    grads_and_vars_feed.append((gradient_placeholder, variable))\n",
    "training_op = optimizer.apply_gradients(grads_and_vars_feed)\n",
    "\n",
    "init = tf.global_variables_initializer()\n",
    "saver = tf.train.Saver()\n",
    "\n",
    "# --------------------------------------"
   ]
  },
  {
   "cell_type": "code",
   "execution_count": 0,
   "metadata": {
    "colab": {
     "autoexec": {
      "startup": false,
      "wait_interval": 0
     }
    },
    "colab_type": "code",
    "collapsed": true,
    "id": "MLxMyOlovGXq"
   },
   "outputs": [],
   "source": [
    "def render_policy_net(model_path, X, n_max_steps = 1000):\n",
    "    frames = []\n",
    "    env = gym.make(\"CartPole-v0\")\n",
    "    obs = env.reset()\n",
    "    action_val = 0\n",
    "    \n",
    "    with tf.Session() as sess:\n",
    "        saver.restore(sess, model_path)\n",
    "        for step in range(n_max_steps):\n",
    "            # Send step to rendering function\n",
    "            img = render_cart_pole(env, obs, step, action_val)\n",
    "            frames.append(img)\n",
    "            \n",
    "            action_val = action.eval(feed_dict={X: obs.reshape(1, n_inputs)})\n",
    "            obs, reward, done, info = env.step(action_val[0][0])\n",
    "            \n",
    "            if done:\n",
    "                break\n",
    "    env.close()\n",
    "    return frames"
   ]
  },
  {
   "cell_type": "code",
   "execution_count": 0,
   "metadata": {
    "colab": {
     "autoexec": {
      "startup": false,
      "wait_interval": 0
     },
     "base_uri": "https://localhost:8080/",
     "height": 102,
     "output_extras": [
      {
       "item_id": 28
      }
     ]
    },
    "colab_type": "code",
    "collapsed": false,
    "id": "LKp-jr3cvGXu",
    "outputId": "e6592a76-2ef5-4fd6-f628-433429b82896"
   },
   "outputs": [
    {
     "name": "stdout",
     "output_type": "stream",
     "text": [
      "\u001b[33mWARN: gym.spaces.Box autodetected dtype as <class 'numpy.float32'>. Please provide explicit dtype.\u001b[0m\n",
      "Iteration: 0 Avg. Frames: 16.0\n",
      "Iteration: 10 Avg. Frames: 64.3\n",
      "Iteration: 20 Avg. Frames: 98.2\n",
      "Iteration: 28"
     ]
    }
   ],
   "source": [
    "# ------- Run Session -------\n",
    "\n",
    "env = gym.make(\"CartPole-v0\")\n",
    "\n",
    "n_games_per_update = 10\n",
    "n_max_steps = 1000\n",
    "n_iterations = 5000\n",
    "save_iterations = 10\n",
    "discount_rate = 0.95\n",
    "\n",
    "with tf.Session() as sess:\n",
    "    init.run()\n",
    "    for iteration in range(n_iterations):\n",
    "        print(\"\\rIteration: {}\".format(iteration), end=\"\")\n",
    "        all_rewards = []\n",
    "        all_gradients = []\n",
    "        all_obs = []\n",
    "        for game in range(n_games_per_update):\n",
    "            current_rewards = []\n",
    "            current_gradients = []\n",
    "            current_obs = []\n",
    "            obs = env.reset()\n",
    "            for step in range(n_max_steps):\n",
    "                action_val, gradients_val = sess.run([action, gradients], feed_dict={X: obs.reshape(1, n_inputs)})\n",
    "                obs, reward, done, info = env.step(action_val[0][0])\n",
    "                current_rewards.append(reward)\n",
    "                current_gradients.append(gradients_val)\n",
    "                current_obs.append(obs)\n",
    "                if done:\n",
    "                    break\n",
    "            all_rewards.append(current_rewards)\n",
    "            all_gradients.append(current_gradients)\n",
    "            all_obs.append(current_obs)\n",
    "\n",
    "        all_rewards = discount_and_normalize_rewards(all_rewards, all_obs, discount_rate=discount_rate)\n",
    "        feed_dict = {}\n",
    "        for var_index, gradient_placeholder in enumerate(gradient_placeholders):\n",
    "            mean_gradients = np.mean([reward * all_gradients[game_index][step][var_index]\n",
    "                                      for game_index, rewards in enumerate(all_rewards)\n",
    "                                          for step, reward in enumerate(rewards)], axis=0)\n",
    "            feed_dict[gradient_placeholder] = mean_gradients\n",
    "        sess.run(training_op, feed_dict=feed_dict)\n",
    "        if iteration % save_iterations == 0:\n",
    "            saver.save(sess, \"./models/policy-grad-drift-penalty_home.ckpt\")\n",
    "            print(' Avg. Frames:', np.mean([len(reward) for reward in all_rewards]))\n",
    "            if np.mean([len(reward) for reward in all_rewards]) > 195: # early stopping\n",
    "                break    "
   ]
  },
  {
   "cell_type": "code",
   "execution_count": 0,
   "metadata": {
    "colab": {
     "autoexec": {
      "startup": false,
      "wait_interval": 0
     }
    },
    "colab_type": "code",
    "collapsed": true,
    "id": "gfNM_edevGXz"
   },
   "outputs": [],
   "source": [
    "env.close()"
   ]
  },
  {
   "cell_type": "code",
   "execution_count": 47,
   "metadata": {
    "colab": {
     "autoexec": {
      "startup": false,
      "wait_interval": 0
     },
     "base_uri": "https://localhost:8080/",
     "height": 966,
     "output_extras": [
      {
       "item_id": 1
      },
      {
       "item_id": 2
      }
     ]
    },
    "colab_type": "code",
    "collapsed": false,
    "executionInfo": {
     "elapsed": 470,
     "status": "error",
     "timestamp": 1519332537056,
     "user": {
      "displayName": "Luke Woods",
      "photoUrl": "//lh5.googleusercontent.com/-T2fU76Zpl4Q/AAAAAAAAAAI/AAAAAAAAI-U/kjJiIsiXSxQ/s50-c-k-no/photo.jpg",
      "userId": "118435771259044284350"
     },
     "user_tz": 0
    },
    "id": "ewZyFlz9vGX2",
    "outputId": "84ebfaff-9332-4e83-8435-62fac2d26b25"
   },
   "outputs": [
    {
     "name": "stdout",
     "output_type": "stream",
     "text": [
      "\u001b[33mWARN: gym.spaces.Box autodetected dtype as <class 'numpy.float32'>. Please provide explicit dtype.\u001b[0m\n",
      "INFO:tensorflow:Restoring parameters from models/policy-grad-drift-penalty_home.ckpt\n"
     ]
    },
    {
     "ename": "NameError",
     "evalue": "ignored",
     "output_type": "error",
     "traceback": [
      "\u001b[0;31m---------------------------------------------------------------------------\u001b[0m",
      "\u001b[0;31mNameError\u001b[0m                                 Traceback (most recent call last)",
      "\u001b[0;32m<ipython-input-47-626281e1fb16>\u001b[0m in \u001b[0;36m<module>\u001b[0;34m()\u001b[0m\n\u001b[0;32m----> 1\u001b[0;31m \u001b[0mframes\u001b[0m \u001b[0;34m=\u001b[0m \u001b[0mrender_policy_net\u001b[0m\u001b[0;34m(\u001b[0m\u001b[0;34m\"models/policy-grad-drift-penalty_home.ckpt\"\u001b[0m\u001b[0;34m,\u001b[0m \u001b[0mX\u001b[0m\u001b[0;34m,\u001b[0m \u001b[0mn_max_steps\u001b[0m\u001b[0;34m=\u001b[0m\u001b[0;36m2000\u001b[0m\u001b[0;34m)\u001b[0m\u001b[0;34m\u001b[0m\u001b[0m\n\u001b[0m\u001b[1;32m      2\u001b[0m \u001b[0mvideo\u001b[0m \u001b[0;34m=\u001b[0m \u001b[0mplot_animation\u001b[0m\u001b[0;34m(\u001b[0m\u001b[0mframes\u001b[0m\u001b[0;34m,\u001b[0m \u001b[0mrepeat\u001b[0m\u001b[0;34m=\u001b[0m\u001b[0;32mTrue\u001b[0m\u001b[0;34m)\u001b[0m\u001b[0;34m\u001b[0m\u001b[0m\n\u001b[1;32m      3\u001b[0m \u001b[0mplt\u001b[0m\u001b[0;34m.\u001b[0m\u001b[0mshow\u001b[0m\u001b[0;34m(\u001b[0m\u001b[0;34m)\u001b[0m\u001b[0;34m\u001b[0m\u001b[0m\n",
      "\u001b[0;32m<ipython-input-26-3090d5c34de5>\u001b[0m in \u001b[0;36mrender_policy_net\u001b[0;34m(model_path, X, n_max_steps)\u001b[0m\n\u001b[1;32m      9\u001b[0m         \u001b[0;32mfor\u001b[0m \u001b[0mstep\u001b[0m \u001b[0;32min\u001b[0m \u001b[0mrange\u001b[0m\u001b[0;34m(\u001b[0m\u001b[0mn_max_steps\u001b[0m\u001b[0;34m)\u001b[0m\u001b[0;34m:\u001b[0m\u001b[0;34m\u001b[0m\u001b[0m\n\u001b[1;32m     10\u001b[0m             \u001b[0;31m# Send step to rendering function\u001b[0m\u001b[0;34m\u001b[0m\u001b[0;34m\u001b[0m\u001b[0m\n\u001b[0;32m---> 11\u001b[0;31m             \u001b[0mimg\u001b[0m \u001b[0;34m=\u001b[0m \u001b[0mrender_cart_pole\u001b[0m\u001b[0;34m(\u001b[0m\u001b[0menv\u001b[0m\u001b[0;34m,\u001b[0m \u001b[0mobs\u001b[0m\u001b[0;34m,\u001b[0m \u001b[0mstep\u001b[0m\u001b[0;34m,\u001b[0m \u001b[0maction_val\u001b[0m\u001b[0;34m)\u001b[0m\u001b[0;34m\u001b[0m\u001b[0m\n\u001b[0m\u001b[1;32m     12\u001b[0m             \u001b[0mframes\u001b[0m\u001b[0;34m.\u001b[0m\u001b[0mappend\u001b[0m\u001b[0;34m(\u001b[0m\u001b[0mimg\u001b[0m\u001b[0;34m)\u001b[0m\u001b[0;34m\u001b[0m\u001b[0m\n\u001b[1;32m     13\u001b[0m \u001b[0;34m\u001b[0m\u001b[0m\n",
      "\u001b[0;32m<ipython-input-6-f7b9eb0f17c0>\u001b[0m in \u001b[0;36mrender_cart_pole\u001b[0;34m(env, obs, step, action_val)\u001b[0m\n\u001b[1;32m     74\u001b[0m     \u001b[0;32mif\u001b[0m \u001b[0;32mnot\u001b[0m \u001b[0mopenai_cart_pole_rendering\u001b[0m\u001b[0;34m:\u001b[0m\u001b[0;34m\u001b[0m\u001b[0m\n\u001b[1;32m     75\u001b[0m         \u001b[0;31m# use OpenAI gym's rendering function\u001b[0m\u001b[0;34m\u001b[0m\u001b[0;34m\u001b[0m\u001b[0m\n\u001b[0;32m---> 76\u001b[0;31m         \u001b[0;32mreturn\u001b[0m \u001b[0menv\u001b[0m\u001b[0;34m.\u001b[0m\u001b[0mrender\u001b[0m\u001b[0;34m(\u001b[0m\u001b[0mmode\u001b[0m\u001b[0;34m=\u001b[0m\u001b[0;34m\"rgb_array\"\u001b[0m\u001b[0;34m)\u001b[0m\u001b[0;34m\u001b[0m\u001b[0m\n\u001b[0m\u001b[1;32m     77\u001b[0m     \u001b[0;32melse\u001b[0m\u001b[0;34m:\u001b[0m\u001b[0;34m\u001b[0m\u001b[0m\n\u001b[1;32m     78\u001b[0m         \u001b[0;31m# rendering for the cart pole environment (in case OpenAI gym can't do it)\u001b[0m\u001b[0;34m\u001b[0m\u001b[0;34m\u001b[0m\u001b[0m\n",
      "\u001b[0;32m/usr/local/lib/python3.6/dist-packages/gym/core.py\u001b[0m in \u001b[0;36mrender\u001b[0;34m(self, mode)\u001b[0m\n\u001b[1;32m    275\u001b[0m \u001b[0;34m\u001b[0m\u001b[0m\n\u001b[1;32m    276\u001b[0m     \u001b[0;32mdef\u001b[0m \u001b[0mrender\u001b[0m\u001b[0;34m(\u001b[0m\u001b[0mself\u001b[0m\u001b[0;34m,\u001b[0m \u001b[0mmode\u001b[0m\u001b[0;34m=\u001b[0m\u001b[0;34m'human'\u001b[0m\u001b[0;34m)\u001b[0m\u001b[0;34m:\u001b[0m\u001b[0;34m\u001b[0m\u001b[0m\n\u001b[0;32m--> 277\u001b[0;31m         \u001b[0;32mreturn\u001b[0m \u001b[0mself\u001b[0m\u001b[0;34m.\u001b[0m\u001b[0menv\u001b[0m\u001b[0;34m.\u001b[0m\u001b[0mrender\u001b[0m\u001b[0;34m(\u001b[0m\u001b[0mmode\u001b[0m\u001b[0;34m)\u001b[0m\u001b[0;34m\u001b[0m\u001b[0m\n\u001b[0m\u001b[1;32m    278\u001b[0m \u001b[0;34m\u001b[0m\u001b[0m\n\u001b[1;32m    279\u001b[0m     \u001b[0;32mdef\u001b[0m \u001b[0mclose\u001b[0m\u001b[0;34m(\u001b[0m\u001b[0mself\u001b[0m\u001b[0;34m)\u001b[0m\u001b[0;34m:\u001b[0m\u001b[0;34m\u001b[0m\u001b[0m\n",
      "\u001b[0;32m/usr/local/lib/python3.6/dist-packages/gym/envs/classic_control/cartpole.py\u001b[0m in \u001b[0;36mrender\u001b[0;34m(self, mode)\u001b[0m\n\u001b[1;32m    104\u001b[0m \u001b[0;34m\u001b[0m\u001b[0m\n\u001b[1;32m    105\u001b[0m         \u001b[0;32mif\u001b[0m \u001b[0mself\u001b[0m\u001b[0;34m.\u001b[0m\u001b[0mviewer\u001b[0m \u001b[0;32mis\u001b[0m \u001b[0;32mNone\u001b[0m\u001b[0;34m:\u001b[0m\u001b[0;34m\u001b[0m\u001b[0m\n\u001b[0;32m--> 106\u001b[0;31m             \u001b[0;32mfrom\u001b[0m \u001b[0mgym\u001b[0m\u001b[0;34m.\u001b[0m\u001b[0menvs\u001b[0m\u001b[0;34m.\u001b[0m\u001b[0mclassic_control\u001b[0m \u001b[0;32mimport\u001b[0m \u001b[0mrendering\u001b[0m\u001b[0;34m\u001b[0m\u001b[0m\n\u001b[0m\u001b[1;32m    107\u001b[0m             \u001b[0mself\u001b[0m\u001b[0;34m.\u001b[0m\u001b[0mviewer\u001b[0m \u001b[0;34m=\u001b[0m \u001b[0mrendering\u001b[0m\u001b[0;34m.\u001b[0m\u001b[0mViewer\u001b[0m\u001b[0;34m(\u001b[0m\u001b[0mscreen_width\u001b[0m\u001b[0;34m,\u001b[0m \u001b[0mscreen_height\u001b[0m\u001b[0;34m)\u001b[0m\u001b[0;34m\u001b[0m\u001b[0m\n\u001b[1;32m    108\u001b[0m             \u001b[0ml\u001b[0m\u001b[0;34m,\u001b[0m\u001b[0mr\u001b[0m\u001b[0;34m,\u001b[0m\u001b[0mt\u001b[0m\u001b[0;34m,\u001b[0m\u001b[0mb\u001b[0m \u001b[0;34m=\u001b[0m \u001b[0;34m-\u001b[0m\u001b[0mcartwidth\u001b[0m\u001b[0;34m/\u001b[0m\u001b[0;36m2\u001b[0m\u001b[0;34m,\u001b[0m \u001b[0mcartwidth\u001b[0m\u001b[0;34m/\u001b[0m\u001b[0;36m2\u001b[0m\u001b[0;34m,\u001b[0m \u001b[0mcartheight\u001b[0m\u001b[0;34m/\u001b[0m\u001b[0;36m2\u001b[0m\u001b[0;34m,\u001b[0m \u001b[0;34m-\u001b[0m\u001b[0mcartheight\u001b[0m\u001b[0;34m/\u001b[0m\u001b[0;36m2\u001b[0m\u001b[0;34m\u001b[0m\u001b[0m\n",
      "\u001b[0;32m/usr/local/lib/python3.6/dist-packages/gym/envs/classic_control/rendering.py\u001b[0m in \u001b[0;36m<module>\u001b[0;34m()\u001b[0m\n\u001b[1;32m     21\u001b[0m \u001b[0;34m\u001b[0m\u001b[0m\n\u001b[1;32m     22\u001b[0m \u001b[0;32mtry\u001b[0m\u001b[0;34m:\u001b[0m\u001b[0;34m\u001b[0m\u001b[0m\n\u001b[0;32m---> 23\u001b[0;31m     \u001b[0;32mfrom\u001b[0m \u001b[0mpyglet\u001b[0m\u001b[0;34m.\u001b[0m\u001b[0mgl\u001b[0m \u001b[0;32mimport\u001b[0m \u001b[0;34m*\u001b[0m\u001b[0;34m\u001b[0m\u001b[0m\n\u001b[0m\u001b[1;32m     24\u001b[0m \u001b[0;32mexcept\u001b[0m \u001b[0mImportError\u001b[0m \u001b[0;32mas\u001b[0m \u001b[0me\u001b[0m\u001b[0;34m:\u001b[0m\u001b[0;34m\u001b[0m\u001b[0m\n\u001b[1;32m     25\u001b[0m     \u001b[0mreraise\u001b[0m\u001b[0;34m(\u001b[0m\u001b[0mprefix\u001b[0m\u001b[0;34m=\u001b[0m\u001b[0;34m\"Error occured while running `from pyglet.gl import *`\"\u001b[0m\u001b[0;34m,\u001b[0m\u001b[0msuffix\u001b[0m\u001b[0;34m=\u001b[0m\u001b[0;34m\"HINT: make sure you have OpenGL install. On Ubuntu, you can run 'apt-get install python-opengl'. If you're running on a server, you may need a virtual frame buffer; something like this should work: 'xvfb-run -s \\\"-screen 0 1400x900x24\\\" python <your_script.py>'\"\u001b[0m\u001b[0;34m)\u001b[0m\u001b[0;34m\u001b[0m\u001b[0m\n",
      "\u001b[0;32m/usr/local/lib/python3.6/dist-packages/pyglet/gl/__init__.py\u001b[0m in \u001b[0;36m<module>\u001b[0;34m()\u001b[0m\n\u001b[1;32m    225\u001b[0m     \u001b[0;32melse\u001b[0m\u001b[0;34m:\u001b[0m\u001b[0;34m\u001b[0m\u001b[0m\n\u001b[1;32m    226\u001b[0m         \u001b[0;32mfrom\u001b[0m \u001b[0;34m.\u001b[0m\u001b[0mcarbon\u001b[0m \u001b[0;32mimport\u001b[0m \u001b[0mCarbonConfig\u001b[0m \u001b[0;32mas\u001b[0m \u001b[0mConfig\u001b[0m\u001b[0;34m\u001b[0m\u001b[0m\n\u001b[0;32m--> 227\u001b[0;31m \u001b[0;32mdel\u001b[0m \u001b[0mbase\u001b[0m\u001b[0;34m\u001b[0m\u001b[0m\n\u001b[0m\u001b[1;32m    228\u001b[0m \u001b[0;34m\u001b[0m\u001b[0m\n\u001b[1;32m    229\u001b[0m \u001b[0;31m# XXX remove\u001b[0m\u001b[0;34m\u001b[0m\u001b[0;34m\u001b[0m\u001b[0m\n",
      "\u001b[0;31mNameError\u001b[0m: name 'base' is not defined"
     ]
    }
   ],
   "source": [
    "frames = render_policy_net(\"models/policy-grad-drift-penalty_home.ckpt\", X, n_max_steps=2000)\n",
    "video = plot_animation(frames, repeat=True)\n",
    "plt.show()"
   ]
  },
  {
   "cell_type": "code",
   "execution_count": 24,
   "metadata": {
    "colab": {
     "autoexec": {
      "startup": false,
      "wait_interval": 0
     },
     "base_uri": "https://localhost:8080/",
     "height": 51,
     "output_extras": [
      {
       "item_id": 2
      }
     ]
    },
    "colab_type": "code",
    "collapsed": false,
    "executionInfo": {
     "elapsed": 1207,
     "status": "ok",
     "timestamp": 1519331453251,
     "user": {
      "displayName": "Luke Woods",
      "photoUrl": "//lh5.googleusercontent.com/-T2fU76Zpl4Q/AAAAAAAAAAI/AAAAAAAAI-U/kjJiIsiXSxQ/s50-c-k-no/photo.jpg",
      "userId": "118435771259044284350"
     },
     "user_tz": 0
    },
    "id": "ZEcCbWUSvGX5",
    "outputId": "d878c5f4-98ac-4386-d57b-7d8083f796a4"
   },
   "outputs": [
    {
     "name": "stdout",
     "output_type": "stream",
     "text": [
      "Uploaded file with ID 1nH0xir1orPj1HJl6Z0kiQZ0S2oi7Wxk_\n",
      "Downloaded content \"Sample upload file content\"\n"
     ]
    }
   ],
   "source": [
    "!pip install -U -q PyDrive\n",
    "\n",
    "from pydrive.auth import GoogleAuth\n",
    "from pydrive.drive import GoogleDrive\n",
    "from google.colab import auth\n",
    "from oauth2client.client import GoogleCredentials\n",
    "\n",
    "# 1. Authenticate and create the PyDrive client.\n",
    "auth.authenticate_user()\n",
    "gauth = GoogleAuth()\n",
    "gauth.credentials = GoogleCredentials.get_application_default()\n",
    "drive = GoogleDrive(gauth)\n",
    "\n",
    "# PyDrive reference:\n",
    "# https://googledrive.github.io/PyDrive/docs/build/html/index.html\n",
    "\n",
    "# 2. Create & upload a file text file.\n",
    "uploaded = drive.CreateFile({'title': 'Sample upload.txt'})\n",
    "uploaded.SetContentString('Sample upload file content')\n",
    "uploaded.Upload()\n",
    "print('Uploaded file with ID {}'.format(uploaded.get('id')))\n",
    "\n",
    "# 3. Load a file by ID and print its contents.\n",
    "downloaded = drive.CreateFile({'id': uploaded.get('id')})\n",
    "print('Downloaded content \"{}\"'.format(downloaded.GetContentString()))"
   ]
  },
  {
   "cell_type": "code",
   "execution_count": 0,
   "metadata": {
    "colab": {
     "autoexec": {
      "startup": false,
      "wait_interval": 0
     }
    },
    "colab_type": "code",
    "collapsed": true,
    "id": "m9Eq2UlQQ-ns"
   },
   "outputs": [],
   "source": []
  },
  {
   "cell_type": "code",
   "execution_count": 0,
   "metadata": {
    "colab": {
     "autoexec": {
      "startup": false,
      "wait_interval": 0
     }
    },
    "colab_type": "code",
    "collapsed": true,
    "id": "wCBbePGeQ-vO"
   },
   "outputs": [],
   "source": []
  },
  {
   "cell_type": "code",
   "execution_count": 0,
   "metadata": {
    "colab": {
     "autoexec": {
      "startup": false,
      "wait_interval": 0
     }
    },
    "colab_type": "code",
    "collapsed": true,
    "id": "ft01XlH3Q-s8"
   },
   "outputs": [],
   "source": []
  },
  {
   "cell_type": "code",
   "execution_count": 0,
   "metadata": {
    "colab": {
     "autoexec": {
      "startup": false,
      "wait_interval": 0
     }
    },
    "colab_type": "code",
    "collapsed": true,
    "id": "rSWw9CS3Q-q0"
   },
   "outputs": [],
   "source": []
  }
 ],
 "metadata": {
  "accelerator": "GPU",
  "colab": {
   "collapsed_sections": [],
   "default_view": {},
   "name": "2017-12-28-ldw-005-Policy-Gradient-Reward-Function.ipynb",
   "provenance": [],
   "version": "0.3.2",
   "views": {}
  },
  "kernelspec": {
   "display_name": "Python 3",
   "language": "python",
   "name": "python3"
  },
  "language_info": {
   "codemirror_mode": {
    "name": "ipython",
    "version": 3
   },
   "file_extension": ".py",
   "mimetype": "text/x-python",
   "name": "python",
   "nbconvert_exporter": "python",
   "pygments_lexer": "ipython3",
   "version": "3.6.3"
  }
 },
 "nbformat": 4,
 "nbformat_minor": 0
}
